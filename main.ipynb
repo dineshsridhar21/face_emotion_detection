{
 "cells": [
  {
   "cell_type": "code",
   "execution_count": 1,
   "id": "bcd682c4-7460-4776-a587-3ee6350f51a6",
   "metadata": {},
   "outputs": [],
   "source": [
    "import tensorflow as tf\n",
    "import face_recognition\n",
    "import cv2\n",
    "import pickle \n",
    "import numpy as np\n",
    "import os\n",
    "import time"
   ]
  },
  {
   "cell_type": "code",
   "execution_count": 2,
   "id": "300bcf51-e766-4b61-b94c-ed6d437598d6",
   "metadata": {},
   "outputs": [
    {
     "name": "stdout",
     "output_type": "stream",
     "text": [
      "Loop throughed in this directory C:\\Users\\Dinesh\\PycharmProjects\\pythonProject1\\images\\Ansari\\Ansari.png labeled as an Ansari\n",
      "Loop throughed in this directory C:\\Users\\Dinesh\\PycharmProjects\\pythonProject1\\images\\ashik\\ashik.jpg labeled as an ashik\n",
      "Loop throughed in this directory C:\\Users\\Dinesh\\PycharmProjects\\pythonProject1\\images\\bhanu\\bhanu.jpg labeled as an bhanu\n",
      "Loop throughed in this directory C:\\Users\\Dinesh\\PycharmProjects\\pythonProject1\\images\\bushan\\bushan.jpg labeled as an bushan\n",
      "Loop throughed in this directory C:\\Users\\Dinesh\\PycharmProjects\\pythonProject1\\images\\chithapa\\chithapa.jpg labeled as an chithapa\n",
      "Loop throughed in this directory C:\\Users\\Dinesh\\PycharmProjects\\pythonProject1\\images\\deepan\\deepan.jpg labeled as an deepan\n",
      "Loop throughed in this directory C:\\Users\\Dinesh\\PycharmProjects\\pythonProject1\\images\\dharmaraj\\WhatsApp Image 2024-05-29 at 10.20.01_9da715c1.jpg labeled as an dharmaraj\n",
      "Loop throughed in this directory C:\\Users\\Dinesh\\PycharmProjects\\pythonProject1\\images\\dinesh\\dinesh.jpg labeled as an dinesh\n",
      "Loop throughed in this directory C:\\Users\\Dinesh\\PycharmProjects\\pythonProject1\\images\\gobinath\\gobinath.jpg labeled as an gobinath\n",
      "Loop throughed in this directory C:\\Users\\Dinesh\\PycharmProjects\\pythonProject1\\images\\Hari\\1.jpeg labeled as an Hari\n",
      "Loop throughed in this directory C:\\Users\\Dinesh\\PycharmProjects\\pythonProject1\\images\\jayaram\\jayaram.jpg labeled as an jayaram\n",
      "Loop throughed in this directory C:\\Users\\Dinesh\\PycharmProjects\\pythonProject1\\images\\mani\\mani.jpg labeled as an mani\n",
      "Loop throughed in this directory C:\\Users\\Dinesh\\PycharmProjects\\pythonProject1\\images\\maruthu\\maruthu.jpg labeled as an maruthu\n",
      "Loop throughed in this directory C:\\Users\\Dinesh\\PycharmProjects\\pythonProject1\\images\\naveen\\naveen.png labeled as an naveen\n",
      "Loop throughed in this directory C:\\Users\\Dinesh\\PycharmProjects\\pythonProject1\\images\\navven\\navven.jpg labeled as an navven\n",
      "Loop throughed in this directory C:\\Users\\Dinesh\\PycharmProjects\\pythonProject1\\images\\ranjith\\ranjith.jpg labeled as an ranjith\n",
      "Loop throughed in this directory C:\\Users\\Dinesh\\PycharmProjects\\pythonProject1\\images\\santhosh\\santhosh.jpg labeled as an santhosh\n",
      "Loop throughed in this directory C:\\Users\\Dinesh\\PycharmProjects\\pythonProject1\\images\\sarathi\\sarathi.jpg labeled as an sarathi\n",
      "Loop throughed in this directory C:\\Users\\Dinesh\\PycharmProjects\\pythonProject1\\images\\saravanan\\saravanan.jpg labeled as an saravanan\n",
      "Loop throughed in this directory C:\\Users\\Dinesh\\PycharmProjects\\pythonProject1\\images\\sarvesh\\sarvesh.jpg labeled as an sarvesh\n",
      "Loop throughed in this directory C:\\Users\\Dinesh\\PycharmProjects\\pythonProject1\\images\\shiva\\shiva.jpeg labeled as an shiva\n",
      "Loop throughed in this directory C:\\Users\\Dinesh\\PycharmProjects\\pythonProject1\\images\\subash\\subash.jpg labeled as an subash\n",
      "Loop throughed in this directory C:\\Users\\Dinesh\\PycharmProjects\\pythonProject1\\images\\vicky\\vicky.jpg labeled as an vicky\n"
     ]
    }
   ],
   "source": [
    "directory = r\"C:\\Users\\Dinesh\\PycharmProjects\\pythonProject1\\images\"\n",
    "known_face_encodings = []\n",
    "known_face_labels = []\n",
    "\n",
    "def loop_through_dir(directory):\n",
    "    for root, dirs, files in os.walk(directory):\n",
    "        for file in files:\n",
    "            if file.endswith(('png', 'jpg', 'jpeg')):\n",
    "                file_path = os.path.join(root, file)\n",
    "                label = os.path.basename(root)\n",
    "                image = face_recognition.load_image_file(file_path)\n",
    "                encodings = face_recognition.face_encodings(image)\n",
    "                if encodings:\n",
    "                    known_face_encodings.append(encodings[0])\n",
    "                    known_face_labels.append(label)\n",
    "                    print(f\"Loop throughed in this directory {file_path} labeled as an {label}\")\n",
    "\n",
    "loop_through_dir(directory)\n",
    "\n",
    "with open(\"known_faces.pkl\", \"wb\") as f:\n",
    "    pickle.dump((known_face_encodings, known_face_labels), f)"
   ]
  },
  {
   "cell_type": "code",
   "execution_count": 3,
   "id": "c2c932ea-c598-4975-abd3-90cec2f07d41",
   "metadata": {},
   "outputs": [
    {
     "name": "stderr",
     "output_type": "stream",
     "text": [
      "WARNING:absl:Compiled the loaded model, but the compiled metrics have yet to be built. `model.compile_metrics` will be empty until you train or evaluate the model.\n"
     ]
    }
   ],
   "source": [
    "with open(\"known_faces.pkl\", \"rb\") as f:\n",
    "    known_face_encodings, known_face_labels = pickle.load(f)\n",
    "\n",
    "emotion_model = tf.keras.models.load_model(r'C:\\Users\\Dinesh\\PycharmProjects\\emotion_model_weights.h5')\n",
    "\n",
    "emotion_labels = {0: 'Angry', 1: 'Disgust', 2: 'Fear', 3: 'Happy', 4: 'Sad', 5: 'Surprise', 6: 'Neutral'}\n",
    "emotion_tracking = {}\n",
    "\n",
    "def face_emotion(img):\n",
    "    face_locations = face_recognition.face_locations(img)\n",
    "    face_encodings = face_recognition.face_encodings(img, face_locations)\n",
    "\n",
    "    for face_encoding, face_location in zip(face_encodings, face_locations):\n",
    "        top, right, bottom, left = face_location\n",
    "\n",
    "        matches = face_recognition.compare_faces(known_face_encodings, face_encoding)\n",
    "        face_distances = face_recognition.face_distance(known_face_encodings, face_encoding)\n",
    "        best_match_index = np.argmin(face_distances)\n",
    "\n",
    "        if matches[best_match_index]:\n",
    "            predicted_face = known_face_labels[best_match_index]\n",
    "        else:\n",
    "            predicted_face = \"Unknown\"\n",
    "\n",
    "        face_roi = img[top:bottom, left:right]\n",
    "        resized_emotion = cv2.resize(face_roi, (48, 48))\n",
    "        resized_emotion_gray = cv2.cvtColor(resized_emotion, cv2.COLOR_BGR2GRAY)\n",
    "        normalized_emotion = resized_emotion_gray / 255.0\n",
    "        reshaped_emotion = np.reshape(normalized_emotion, (1, 48, 48, 1))\n",
    "\n",
    "        emotion_prediction = emotion_model.predict(reshaped_emotion)\n",
    "        predicted_emotion = emotion_labels[np.argmax(emotion_prediction)]\n",
    "\n",
    "        face_id = f\"{left}-{top}-{right}-{bottom}\"  \n",
    "        current_time = time.time()\n",
    "\n",
    "        if face_id not in emotion_tracking:\n",
    "            emotion_tracking[face_id] = {\n",
    "                'emotion': predicted_emotion,\n",
    "                'start_time': current_time,\n",
    "                'elapsed_time': 0\n",
    "            }\n",
    "        else:\n",
    "            if emotion_tracking[face_id]['emotion'] == predicted_emotion:\n",
    "                elapsed_time = current_time - emotion_tracking[face_id]['start_time']\n",
    "                emotion_tracking[face_id]['elapsed_time'] = elapsed_time\n",
    "            else:\n",
    "                emotion_tracking[face_id] = {\n",
    "                    'emotion': predicted_emotion,\n",
    "                    'start_time': current_time,\n",
    "                    'elapsed_time': 0\n",
    "                }\n",
    "\n",
    "        processing_time = emotion_tracking[face_id]['elapsed_time']\n",
    "        alert_message = \"\"\n",
    "        if processing_time > 5.00:\n",
    "            alert_message = \"ALERT: Detected for over 5 seconds!\"\n",
    "\n",
    "        cv2.rectangle(img, (left, top), (right, bottom), (0, 255, 0), 2)\n",
    "        cv2.putText(img, f\"Face: {predicted_face}\", (left + 5, top - 45), cv2.FONT_HERSHEY_SIMPLEX, 0.7, (0, 255, 255), 2)\n",
    "        cv2.putText(img, f\"Emotion: {predicted_emotion}\", (left + 5, top - 25), cv2.FONT_HERSHEY_SIMPLEX, 0.7, (0, 255, 255), 2)\n",
    "        cv2.putText(img, f\"Time spent: {processing_time:.2f}s\", (left + 5, top - 5), cv2.FONT_HERSHEY_SIMPLEX, 0.7, (0, 255, 255), 2)\n",
    "        if alert_message:\n",
    "            cv2.putText(img, f\"{alert_message}\", (left + 5, bottom  + 10), cv2.FONT_HERSHEY_SIMPLEX, 0.7, (0, 0 , 255), 2)\n",
    "            \n",
    "    return img"
   ]
  },
  {
   "cell_type": "code",
   "execution_count": 7,
   "id": "7e426f75-1994-4e04-8b2e-39d7421ed0d2",
   "metadata": {},
   "outputs": [],
   "source": [
    "cap = cv2.VideoCapture(0)\n",
    "\n",
    "while True:\n",
    "    ret, frame = cap.read()\n",
    "    if not ret:\n",
    "        print(\"Error: Failed to capture frame\")\n",
    "        break\n",
    "    \n",
    "    processed_frame = face_emotion(frame)\n",
    "\n",
    "    cv2.imshow(\"Face and Emotion Detection\", processed_frame)\n",
    "    if cv2.waitKey(1) & 0xFF == ord('q'):\n",
    "        break\n",
    "\n",
    "cap.release()\n",
    "cv2.destroyAllWindows()"
   ]
  },
  {
   "cell_type": "code",
   "execution_count": null,
   "id": "d140ce9a-d0cf-42c5-b928-afbd66015530",
   "metadata": {},
   "outputs": [],
   "source": [
    "\"\""
   ]
  }
 ],
 "metadata": {
  "kernelspec": {
   "display_name": "Python 3 (ipykernel)",
   "language": "python",
   "name": "python3"
  },
  "language_info": {
   "codemirror_mode": {
    "name": "ipython",
    "version": 3
   },
   "file_extension": ".py",
   "mimetype": "text/x-python",
   "name": "python",
   "nbconvert_exporter": "python",
   "pygments_lexer": "ipython3",
   "version": "3.9.5"
  }
 },
 "nbformat": 4,
 "nbformat_minor": 5
}
